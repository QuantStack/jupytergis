{
 "cells": [
  {
   "cell_type": "code",
   "execution_count": 1,
   "id": "1f5dc83a-eebe-4090-8c7a-79c92510dc73",
   "metadata": {},
   "outputs": [
    {
     "data": {
      "application/vnd.jupyter.ywidget-view+json": {
       "model_id": "9267758181f948b49a5874ec691c1f0d",
       "version_major": 2,
       "version_minor": 0
      },
      "text/plain": [
       "<jupytergis_lab.notebook.gis_document.GISDocument object at 0x7fe77ff22360>"
      ]
     },
     "execution_count": 1,
     "metadata": {},
     "output_type": "execute_result"
    }
   ],
   "source": [
    "from jupytergis_lab import GISDocument\n",
    "\n",
    "doc = GISDocument()\n",
    "doc.add_raster_layer(\n",
    "    url=\"https://tile.openstreetmap.org/{z}/{x}/{y}.png\",\n",
    "    name=\"Google Satellite\",\n",
    "    attribution=\"Google\",\n",
    "    opacity=0.6,\n",
    ")\n",
    "doc"
   ]
  },
  {
   "cell_type": "code",
   "execution_count": 2,
   "id": "27968106-22a1-497f-9e4a-af2f67e4ecd8",
   "metadata": {},
   "outputs": [
    {
     "data": {
      "text/plain": [
       "'da196453-1d7e-49b9-a6d2-c2d20bb4dff1'"
      ]
     },
     "execution_count": 2,
     "metadata": {},
     "output_type": "execute_result"
    }
   ],
   "source": [
    "doc.add_geojson_layer(\n",
    "    path=\"france_regions.json\",\n",
    "    color_expr={\"fill-color\": \"#FF0000\", \"stroke-color\": \"#00FF00\"},\n",
    ")"
   ]
  },
  {
   "cell_type": "code",
   "execution_count": 3,
   "id": "81a710c4-0d27-4d99-a57f-3f8e927da05a",
   "metadata": {},
   "outputs": [
    {
     "data": {
      "application/vnd.jupyter.ywidget-view+json": {
       "model_id": "9267758181f948b49a5874ec691c1f0d",
       "version_major": 2,
       "version_minor": 0
      },
      "text/plain": [
       "<jupytergis_lab.notebook.gis_document.GISDocument object at 0x7fe77ff22360>"
      ]
     },
     "execution_count": 3,
     "metadata": {},
     "output_type": "execute_result"
    }
   ],
   "source": [
    "doc"
   ]
  },
  {
   "cell_type": "code",
   "execution_count": null,
   "id": "5f945c0c-df44-432c-92d0-0ee69f12ad70",
   "metadata": {},
   "outputs": [],
   "source": []
  }
 ],
 "metadata": {
  "kernelspec": {
   "display_name": "Python 3 (ipykernel)",
   "language": "python",
   "name": "python3"
  },
  "language_info": {
   "codemirror_mode": {
    "name": "ipython",
    "version": 3
   },
   "file_extension": ".py",
   "mimetype": "text/x-python",
   "name": "python",
   "nbconvert_exporter": "python",
   "pygments_lexer": "ipython3",
   "version": "3.12.5"
  }
 },
 "nbformat": 4,
 "nbformat_minor": 5
}

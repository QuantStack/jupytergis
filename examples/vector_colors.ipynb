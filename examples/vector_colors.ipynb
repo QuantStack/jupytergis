{
 "cells": [
  {
   "cell_type": "code",
   "execution_count": 1,
   "id": "1f5dc83a-eebe-4090-8c7a-79c92510dc73",
   "metadata": {},
   "outputs": [
    {
     "data": {
      "application/vnd.jupyter.ywidget-view+json": {
       "model_id": "2b7a6a45bfe64ce7af78af7fbd2a754a",
       "version_major": 2,
       "version_minor": 0
      },
      "text/plain": [
       "<jupytergis_lab.notebook.gis_document.GISDocument object at 0x7f8434606060>"
      ]
     },
     "execution_count": 1,
     "metadata": {},
     "output_type": "execute_result"
    }
   ],
   "source": [
    "from jupytergis_lab import GISDocument\n",
    "\n",
    "doc = GISDocument()\n",
    "doc.add_geojson_layer(\n",
    "    path=\"france_regions.json\",\n",
    ")\n",
    "doc.add_raster_layer(\n",
    "    url=\"https://tile.openstreetmap.org/{z}/{x}/{y}.png\",\n",
    "    name=\"Google Satellite\",\n",
    "    attribution=\"Google\",\n",
    "    opacity=0.6,\n",
    ")\n",
    "doc"
   ]
  }
 ],
 "metadata": {
  "kernelspec": {
   "display_name": "Python 3 (ipykernel)",
   "language": "python",
   "name": "python3"
  },
  "language_info": {
   "codemirror_mode": {
    "name": "ipython",
    "version": 3
   },
   "file_extension": ".py",
   "mimetype": "text/x-python",
   "name": "python",
   "nbconvert_exporter": "python",
   "pygments_lexer": "ipython3",
   "version": "3.12.5"
  }
 },
 "nbformat": 4,
 "nbformat_minor": 5
}

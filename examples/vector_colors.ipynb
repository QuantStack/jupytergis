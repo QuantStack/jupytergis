{
 "cells": [
  {
   "cell_type": "code",
   "execution_count": 3,
   "id": "1f5dc83a-eebe-4090-8c7a-79c92510dc73",
   "metadata": {},
   "outputs": [
    {
     "data": {
      "application/vnd.jupyter.ywidget-view+json": {
       "model_id": "79e075de1d8f4b039ad0d119775d9166",
       "version_major": 2,
       "version_minor": 0
      },
      "text/plain": [
       "<jupytergis_lab.notebook.gis_document.GISDocument object at 0x7f11941d0110>"
      ]
     },
     "execution_count": 3,
     "metadata": {},
     "output_type": "execute_result"
    }
   ],
   "source": [
    "from jupytergis_lab import GISDocument\n",
    "\n",
    "doc = GISDocument()\n",
    "\n",
    "doc.add_geojson_layer(path=\"fr.json\", color_expr={\"fill-color\": \"#FF0000\"})\n",
    "\n",
    "doc.add_geojson_layer(path=\"eq.json\", color_expr={\"circle-fill-color\": \"#00FF00\"})\n",
    "\n",
    "doc.add_raster_layer(\n",
    "    url=\"https://tile.openstreetmap.org/{z}/{x}/{y}.png\",\n",
    "    name=\"Google Satellite\",\n",
    "    attribution=\"Google\",\n",
    "    opacity=0.6,\n",
    ")\n",
    "doc"
   ]
  },
  {
   "cell_type": "code",
   "execution_count": null,
   "id": "9da5f69d-4b02-4056-bf64-ce4caa97d3cf",
   "metadata": {},
   "outputs": [],
   "source": []
  }
 ],
 "metadata": {
  "kernelspec": {
   "display_name": "Python 3 (ipykernel)",
   "language": "python",
   "name": "python3"
  },
  "language_info": {
   "codemirror_mode": {
    "name": "ipython",
    "version": 3
   },
   "file_extension": ".py",
   "mimetype": "text/x-python",
   "name": "python",
   "nbconvert_exporter": "python",
   "pygments_lexer": "ipython3",
   "version": "3.12.5"
  }
 },
 "nbformat": 4,
 "nbformat_minor": 5
}
